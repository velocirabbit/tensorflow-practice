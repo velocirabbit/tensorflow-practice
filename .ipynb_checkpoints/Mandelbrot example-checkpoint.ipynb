{
 "cells": [
  {
   "cell_type": "code",
   "execution_count": null,
   "metadata": {
    "collapsed": false
   },
   "outputs": [],
   "source": [
    "# Import libraries for simulation\n",
    "import tensorflow as tf\n",
    "import numpy as np\n",
    "\n",
    "# Imports for visualization\n",
    "import PIL.Image\n",
    "from io import BytesIO\n",
    "from IPython.display import Image, display\n",
    "\n",
    "# Function to actually display the image once we have iteration counts\n",
    "def displayFractals(a, fmt = 'jpeg'):\n",
    "  \"\"\"Display an array of iteration counts as a colorful picture of a fractal\"\"\"\n",
    "  a_cyclic = (6.28*a/20.0).reshape(list(a.shape) + [1])\n",
    "  img = np.concatenate([10 + 20*np.cos(a_cyclic),\n",
    "                        30 + 50*np.sin(a_cyclic),\n",
    "                        155 - 80*np.cos(a_cyclic)], axis = 2)\n",
    "  img[a == a.max()] = 0\n",
    "  a = img\n",
    "  a = np.uint8(np.clip(a, 0, 255))\n",
    "  f = BytesIO()\n",
    "  PIL.Image.fromarray(a).save(f, fmt)\n",
    "  display(Image(data = f.getvalue()))"
   ]
  },
  {
   "cell_type": "code",
   "execution_count": null,
   "metadata": {
    "collapsed": true
   },
   "outputs": [],
   "source": []
  }
 ],
 "metadata": {
  "kernelspec": {
   "display_name": "Python 3",
   "language": "python",
   "name": "python3"
  },
  "language_info": {
   "codemirror_mode": {
    "name": "ipython",
    "version": 3
   },
   "file_extension": ".py",
   "mimetype": "text/x-python",
   "name": "python",
   "nbconvert_exporter": "python",
   "pygments_lexer": "ipython3",
   "version": "3.5.0"
  }
 },
 "nbformat": 4,
 "nbformat_minor": 2
}
